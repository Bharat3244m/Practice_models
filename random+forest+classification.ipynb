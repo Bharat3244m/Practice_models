{
 "cells": [
  {
   "cell_type": "code",
   "execution_count": 26,
   "id": "9b302079",
   "metadata": {},
   "outputs": [],
   "source": [
    "import pandas as pd \n",
    "import numpy as np\n",
    "import matplotlib.pyplot as plt\n",
    "import seaborn as sns\n",
    "import plotly.express as px\n",
    "import warnings\n",
    "\n",
    "warnings.filterwarnings(\"ignore\")\n",
    "%matplotlib inline"
   ]
  },
  {
   "cell_type": "code",
   "execution_count": null,
   "id": "6055c547",
   "metadata": {},
   "outputs": [
    {
     "data": {
      "text/html": [
       "<div>\n",
       "<style scoped>\n",
       "    .dataframe tbody tr th:only-of-type {\n",
       "        vertical-align: middle;\n",
       "    }\n",
       "\n",
       "    .dataframe tbody tr th {\n",
       "        vertical-align: top;\n",
       "    }\n",
       "\n",
       "    .dataframe thead th {\n",
       "        text-align: right;\n",
       "    }\n",
       "</style>\n",
       "<table border=\"1\" class=\"dataframe\">\n",
       "  <thead>\n",
       "    <tr style=\"text-align: right;\">\n",
       "      <th></th>\n",
       "      <th>CustomerID</th>\n",
       "      <th>ProdTaken</th>\n",
       "      <th>Age</th>\n",
       "      <th>TypeofContact</th>\n",
       "      <th>CityTier</th>\n",
       "      <th>DurationOfPitch</th>\n",
       "      <th>Occupation</th>\n",
       "      <th>Gender</th>\n",
       "      <th>NumberOfPersonVisiting</th>\n",
       "      <th>NumberOfFollowups</th>\n",
       "      <th>ProductPitched</th>\n",
       "      <th>PreferredPropertyStar</th>\n",
       "      <th>MaritalStatus</th>\n",
       "      <th>NumberOfTrips</th>\n",
       "      <th>Passport</th>\n",
       "      <th>PitchSatisfactionScore</th>\n",
       "      <th>OwnCar</th>\n",
       "      <th>NumberOfChildrenVisiting</th>\n",
       "      <th>Designation</th>\n",
       "      <th>MonthlyIncome</th>\n",
       "    </tr>\n",
       "  </thead>\n",
       "  <tbody>\n",
       "    <tr>\n",
       "      <th>0</th>\n",
       "      <td>200000</td>\n",
       "      <td>1</td>\n",
       "      <td>41.0</td>\n",
       "      <td>Self Enquiry</td>\n",
       "      <td>3</td>\n",
       "      <td>6.0</td>\n",
       "      <td>Salaried</td>\n",
       "      <td>Female</td>\n",
       "      <td>3</td>\n",
       "      <td>3.0</td>\n",
       "      <td>Deluxe</td>\n",
       "      <td>3.0</td>\n",
       "      <td>Single</td>\n",
       "      <td>1.0</td>\n",
       "      <td>1</td>\n",
       "      <td>2</td>\n",
       "      <td>1</td>\n",
       "      <td>0.0</td>\n",
       "      <td>Manager</td>\n",
       "      <td>20993.0</td>\n",
       "    </tr>\n",
       "    <tr>\n",
       "      <th>1</th>\n",
       "      <td>200001</td>\n",
       "      <td>0</td>\n",
       "      <td>49.0</td>\n",
       "      <td>Company Invited</td>\n",
       "      <td>1</td>\n",
       "      <td>14.0</td>\n",
       "      <td>Salaried</td>\n",
       "      <td>Male</td>\n",
       "      <td>3</td>\n",
       "      <td>4.0</td>\n",
       "      <td>Deluxe</td>\n",
       "      <td>4.0</td>\n",
       "      <td>Divorced</td>\n",
       "      <td>2.0</td>\n",
       "      <td>0</td>\n",
       "      <td>3</td>\n",
       "      <td>1</td>\n",
       "      <td>2.0</td>\n",
       "      <td>Manager</td>\n",
       "      <td>20130.0</td>\n",
       "    </tr>\n",
       "    <tr>\n",
       "      <th>2</th>\n",
       "      <td>200002</td>\n",
       "      <td>1</td>\n",
       "      <td>37.0</td>\n",
       "      <td>Self Enquiry</td>\n",
       "      <td>1</td>\n",
       "      <td>8.0</td>\n",
       "      <td>Free Lancer</td>\n",
       "      <td>Male</td>\n",
       "      <td>3</td>\n",
       "      <td>4.0</td>\n",
       "      <td>Basic</td>\n",
       "      <td>3.0</td>\n",
       "      <td>Single</td>\n",
       "      <td>7.0</td>\n",
       "      <td>1</td>\n",
       "      <td>3</td>\n",
       "      <td>0</td>\n",
       "      <td>0.0</td>\n",
       "      <td>Executive</td>\n",
       "      <td>17090.0</td>\n",
       "    </tr>\n",
       "    <tr>\n",
       "      <th>3</th>\n",
       "      <td>200003</td>\n",
       "      <td>0</td>\n",
       "      <td>33.0</td>\n",
       "      <td>Company Invited</td>\n",
       "      <td>1</td>\n",
       "      <td>9.0</td>\n",
       "      <td>Salaried</td>\n",
       "      <td>Female</td>\n",
       "      <td>2</td>\n",
       "      <td>3.0</td>\n",
       "      <td>Basic</td>\n",
       "      <td>3.0</td>\n",
       "      <td>Divorced</td>\n",
       "      <td>2.0</td>\n",
       "      <td>1</td>\n",
       "      <td>5</td>\n",
       "      <td>1</td>\n",
       "      <td>1.0</td>\n",
       "      <td>Executive</td>\n",
       "      <td>17909.0</td>\n",
       "    </tr>\n",
       "    <tr>\n",
       "      <th>4</th>\n",
       "      <td>200004</td>\n",
       "      <td>0</td>\n",
       "      <td>NaN</td>\n",
       "      <td>Self Enquiry</td>\n",
       "      <td>1</td>\n",
       "      <td>8.0</td>\n",
       "      <td>Small Business</td>\n",
       "      <td>Male</td>\n",
       "      <td>2</td>\n",
       "      <td>3.0</td>\n",
       "      <td>Basic</td>\n",
       "      <td>4.0</td>\n",
       "      <td>Divorced</td>\n",
       "      <td>1.0</td>\n",
       "      <td>0</td>\n",
       "      <td>5</td>\n",
       "      <td>1</td>\n",
       "      <td>0.0</td>\n",
       "      <td>Executive</td>\n",
       "      <td>18468.0</td>\n",
       "    </tr>\n",
       "  </tbody>\n",
       "</table>\n",
       "</div>"
      ],
      "text/plain": [
       "   CustomerID  ProdTaken   Age    TypeofContact  CityTier  DurationOfPitch  \\\n",
       "0      200000          1  41.0     Self Enquiry         3              6.0   \n",
       "1      200001          0  49.0  Company Invited         1             14.0   \n",
       "2      200002          1  37.0     Self Enquiry         1              8.0   \n",
       "3      200003          0  33.0  Company Invited         1              9.0   \n",
       "4      200004          0   NaN     Self Enquiry         1              8.0   \n",
       "\n",
       "       Occupation  Gender  NumberOfPersonVisiting  NumberOfFollowups  \\\n",
       "0        Salaried  Female                       3                3.0   \n",
       "1        Salaried    Male                       3                4.0   \n",
       "2     Free Lancer    Male                       3                4.0   \n",
       "3        Salaried  Female                       2                3.0   \n",
       "4  Small Business    Male                       2                3.0   \n",
       "\n",
       "  ProductPitched  PreferredPropertyStar MaritalStatus  NumberOfTrips  \\\n",
       "0         Deluxe                    3.0        Single            1.0   \n",
       "1         Deluxe                    4.0      Divorced            2.0   \n",
       "2          Basic                    3.0        Single            7.0   \n",
       "3          Basic                    3.0      Divorced            2.0   \n",
       "4          Basic                    4.0      Divorced            1.0   \n",
       "\n",
       "   Passport  PitchSatisfactionScore  OwnCar  NumberOfChildrenVisiting  \\\n",
       "0         1                       2       1                       0.0   \n",
       "1         0                       3       1                       2.0   \n",
       "2         1                       3       0                       0.0   \n",
       "3         1                       5       1                       1.0   \n",
       "4         0                       5       1                       0.0   \n",
       "\n",
       "  Designation  MonthlyIncome  \n",
       "0     Manager        20993.0  \n",
       "1     Manager        20130.0  \n",
       "2   Executive        17090.0  \n",
       "3   Executive        17909.0  \n",
       "4   Executive        18468.0  "
      ]
     },
     "execution_count": 27,
     "metadata": {},
     "output_type": "execute_result"
    }
   ],
   "source": [
    "# Load the dataset\n",
    "df = pd.read_csv(\"datasets/Travel.csv\")\n",
    "df.head()"
   ]
  },
  {
   "cell_type": "code",
   "execution_count": 28,
   "id": "bde96bb5",
   "metadata": {},
   "outputs": [
    {
     "data": {
      "text/plain": [
       "MaritalStatus\n",
       "Married      2340\n",
       "Divorced      950\n",
       "Single        916\n",
       "Unmarried     682\n",
       "Name: count, dtype: int64"
      ]
     },
     "execution_count": 28,
     "metadata": {},
     "output_type": "execute_result"
    }
   ],
   "source": [
    "df['MaritalStatus'].value_counts()"
   ]
  },
  {
   "cell_type": "code",
   "execution_count": 29,
   "id": "6f35dfbc",
   "metadata": {},
   "outputs": [],
   "source": [
    "df['MaritalStatus'].replace('Single','Unmarried',inplace=True)"
   ]
  },
  {
   "cell_type": "code",
   "execution_count": 30,
   "id": "a5142e75",
   "metadata": {},
   "outputs": [
    {
     "data": {
      "text/plain": [
       "MaritalStatus\n",
       "Married      2340\n",
       "Unmarried    1598\n",
       "Divorced      950\n",
       "Name: count, dtype: int64"
      ]
     },
     "execution_count": 30,
     "metadata": {},
     "output_type": "execute_result"
    }
   ],
   "source": [
    "df['MaritalStatus'].value_counts()"
   ]
  },
  {
   "cell_type": "code",
   "execution_count": 31,
   "id": "d6b63ca6",
   "metadata": {},
   "outputs": [
    {
     "data": {
      "text/plain": [
       "Gender\n",
       "Male       2916\n",
       "Female     1817\n",
       "Fe Male     155\n",
       "Name: count, dtype: int64"
      ]
     },
     "execution_count": 31,
     "metadata": {},
     "output_type": "execute_result"
    }
   ],
   "source": [
    "df['Gender'].value_counts()"
   ]
  },
  {
   "cell_type": "code",
   "execution_count": 32,
   "id": "d723f125",
   "metadata": {},
   "outputs": [],
   "source": [
    "df['Gender'].replace('Fe Male','Female',inplace=True)"
   ]
  },
  {
   "cell_type": "code",
   "execution_count": 33,
   "id": "294eda31",
   "metadata": {},
   "outputs": [
    {
     "data": {
      "text/plain": [
       "Gender\n",
       "Male      2916\n",
       "Female    1972\n",
       "Name: count, dtype: int64"
      ]
     },
     "execution_count": 33,
     "metadata": {},
     "output_type": "execute_result"
    }
   ],
   "source": [
    "df['Gender'].value_counts()"
   ]
  },
  {
   "cell_type": "code",
   "execution_count": 34,
   "id": "330f3024",
   "metadata": {},
   "outputs": [
    {
     "data": {
      "text/plain": [
       "Occupation\n",
       "Salaried          2368\n",
       "Small Business    2084\n",
       "Large Business     434\n",
       "Free Lancer          2\n",
       "Name: count, dtype: int64"
      ]
     },
     "execution_count": 34,
     "metadata": {},
     "output_type": "execute_result"
    }
   ],
   "source": [
    "df['Occupation'].value_counts()"
   ]
  },
  {
   "cell_type": "code",
   "execution_count": 35,
   "id": "871f2c63",
   "metadata": {},
   "outputs": [
    {
     "data": {
      "text/plain": [
       "ProductPitched\n",
       "Basic           1842\n",
       "Deluxe          1732\n",
       "Standard         742\n",
       "Super Deluxe     342\n",
       "King             230\n",
       "Name: count, dtype: int64"
      ]
     },
     "execution_count": 35,
     "metadata": {},
     "output_type": "execute_result"
    }
   ],
   "source": [
    "df['ProductPitched'].value_counts()"
   ]
  },
  {
   "cell_type": "code",
   "execution_count": 36,
   "id": "e967de2b",
   "metadata": {},
   "outputs": [
    {
     "data": {
      "text/plain": [
       "Designation\n",
       "Executive         1842\n",
       "Manager           1732\n",
       "Senior Manager     742\n",
       "AVP                342\n",
       "VP                 230\n",
       "Name: count, dtype: int64"
      ]
     },
     "execution_count": 36,
     "metadata": {},
     "output_type": "execute_result"
    }
   ],
   "source": [
    "df['Designation'].value_counts()"
   ]
  },
  {
   "cell_type": "code",
   "execution_count": 37,
   "id": "ba15b857",
   "metadata": {},
   "outputs": [
    {
     "name": "stdout",
     "output_type": "stream",
     "text": [
      "Age has 226 null values\n",
      "TypeofContact has 25 null values\n",
      "DurationOfPitch has 251 null values\n",
      "NumberOfFollowups has 45 null values\n",
      "PreferredPropertyStar has 26 null values\n",
      "NumberOfTrips has 140 null values\n",
      "NumberOfChildrenVisiting has 66 null values\n",
      "MonthlyIncome has 233 null values\n"
     ]
    }
   ],
   "source": [
    "# checking for null values\n",
    "features_with_na = [features for features in df.columns if df[features].isnull().sum() > 0]\n",
    "for feature in features_with_na:\n",
    "    print(\"{} has {} null values\".format(feature, df[feature].isnull().sum()))"
   ]
  },
  {
   "cell_type": "code",
   "execution_count": 38,
   "id": "d79dbd12",
   "metadata": {},
   "outputs": [],
   "source": [
    "# Age\n",
    "df['Age'].fillna(df['Age'].median(), inplace=True)\n",
    "\n",
    "# typeofcontact\n",
    "df['TypeofContact'].fillna(df['TypeofContact'].mode()[0], inplace=True)\n",
    "\n",
    "# DurationOfPitch\n",
    "df['DurationOfPitch'].fillna(df['DurationOfPitch'].median(), inplace=True)\n",
    "\n",
    "# NumberOfFollowups\n",
    "df['NumberOfFollowups'].fillna(df['NumberOfFollowups'].mode()[0], inplace=True)\n",
    "\n",
    "# PreferredPropertyStar\n",
    "df['PreferredPropertyStar'].fillna(df['PreferredPropertyStar'].mode()[0], inplace=True)\n",
    "\n",
    "# NumberOfTrips\n",
    "df['NumberOfTrips'].fillna(df['NumberOfTrips'].median(), inplace=True)\n",
    "\n",
    "# NumberOfChildrenVisiting\n",
    "df['NumberOfChildrenVisiting'].fillna(df['NumberOfChildrenVisiting'].mode()[0], inplace=True)\n",
    "\n",
    "# MonthlyIncome\n",
    "df['MonthlyIncome'].fillna(df['MonthlyIncome'].median(), inplace=True)"
   ]
  },
  {
   "cell_type": "code",
   "execution_count": 39,
   "id": "8688d7fe",
   "metadata": {},
   "outputs": [],
   "source": [
    "df.drop('CustomerID', axis=1, inplace=True)"
   ]
  },
  {
   "cell_type": "code",
   "execution_count": 40,
   "id": "26c9e05d",
   "metadata": {},
   "outputs": [
    {
     "data": {
      "text/plain": [
       "ProdTaken                   0\n",
       "Age                         0\n",
       "TypeofContact               0\n",
       "CityTier                    0\n",
       "DurationOfPitch             0\n",
       "Occupation                  0\n",
       "Gender                      0\n",
       "NumberOfPersonVisiting      0\n",
       "NumberOfFollowups           0\n",
       "ProductPitched              0\n",
       "PreferredPropertyStar       0\n",
       "MaritalStatus               0\n",
       "NumberOfTrips               0\n",
       "Passport                    0\n",
       "PitchSatisfactionScore      0\n",
       "OwnCar                      0\n",
       "NumberOfChildrenVisiting    0\n",
       "Designation                 0\n",
       "MonthlyIncome               0\n",
       "dtype: int64"
      ]
     },
     "execution_count": 40,
     "metadata": {},
     "output_type": "execute_result"
    }
   ],
   "source": [
    "df.isnull().sum()"
   ]
  },
  {
   "cell_type": "code",
   "execution_count": null,
   "id": "3218405e",
   "metadata": {},
   "outputs": [],
   "source": [
    "# creating a new column for total number of people visiting\n",
    "df['TotalVisiting'] = df['NumberOfPersonVisiting'] + df['NumberOfChildrenVisiting']\n",
    "df.drop(['NumberOfPersonVisiting', 'NumberOfChildrenVisiting'], axis=1, inplace=True)"
   ]
  },
  {
   "cell_type": "code",
   "execution_count": 42,
   "id": "4906513c",
   "metadata": {},
   "outputs": [],
   "source": [
    "# Splitting features into numerical and categorical\n",
    "num_features = df.select_dtypes(include=[np.number]).columns.tolist()\n",
    "cat_features = df.select_dtypes(exclude=[np.number]).columns.tolist()"
   ]
  },
  {
   "cell_type": "code",
   "execution_count": 45,
   "id": "6acf0aec",
   "metadata": {},
   "outputs": [
    {
     "name": "stdout",
     "output_type": "stream",
     "text": [
      "12 numerical features\n",
      "6 categorical features\n"
     ]
    }
   ],
   "source": [
    "print(len(num_features), \"numerical features\")\n",
    "print(len(cat_features), \"categorical features\")"
   ]
  },
  {
   "cell_type": "code",
   "execution_count": 46,
   "id": "23fe1827",
   "metadata": {},
   "outputs": [
    {
     "name": "stdout",
     "output_type": "stream",
     "text": [
      "9 discrete features\n",
      "3 continuous features\n"
     ]
    }
   ],
   "source": [
    "# Identifying discrete and continuous features\n",
    "discrete_features = [feature for feature in num_features if len(df[feature].unique()) < 20]\n",
    "continuous_features = [feature for feature in num_features if feature not in discrete_features]\n",
    "print(len(discrete_features), \"discrete features\")\n",
    "print(len(continuous_features), \"continuous features\")"
   ]
  },
  {
   "cell_type": "code",
   "execution_count": 47,
   "id": "0c35e424",
   "metadata": {},
   "outputs": [],
   "source": [
    "# Splitting the dataset into features and target variable\n",
    "from sklearn.model_selection import train_test_split\n",
    "X = df.drop('ProdTaken', axis=1)\n",
    "y = df['ProdTaken']"
   ]
  },
  {
   "cell_type": "code",
   "execution_count": 48,
   "id": "48daae3e",
   "metadata": {},
   "outputs": [
    {
     "data": {
      "text/html": [
       "<div>\n",
       "<style scoped>\n",
       "    .dataframe tbody tr th:only-of-type {\n",
       "        vertical-align: middle;\n",
       "    }\n",
       "\n",
       "    .dataframe tbody tr th {\n",
       "        vertical-align: top;\n",
       "    }\n",
       "\n",
       "    .dataframe thead th {\n",
       "        text-align: right;\n",
       "    }\n",
       "</style>\n",
       "<table border=\"1\" class=\"dataframe\">\n",
       "  <thead>\n",
       "    <tr style=\"text-align: right;\">\n",
       "      <th></th>\n",
       "      <th>Age</th>\n",
       "      <th>TypeofContact</th>\n",
       "      <th>CityTier</th>\n",
       "      <th>DurationOfPitch</th>\n",
       "      <th>Occupation</th>\n",
       "      <th>Gender</th>\n",
       "      <th>NumberOfFollowups</th>\n",
       "      <th>ProductPitched</th>\n",
       "      <th>PreferredPropertyStar</th>\n",
       "      <th>MaritalStatus</th>\n",
       "      <th>NumberOfTrips</th>\n",
       "      <th>Passport</th>\n",
       "      <th>PitchSatisfactionScore</th>\n",
       "      <th>OwnCar</th>\n",
       "      <th>Designation</th>\n",
       "      <th>MonthlyIncome</th>\n",
       "      <th>TotalVisiting</th>\n",
       "    </tr>\n",
       "  </thead>\n",
       "  <tbody>\n",
       "    <tr>\n",
       "      <th>0</th>\n",
       "      <td>41.0</td>\n",
       "      <td>Self Enquiry</td>\n",
       "      <td>3</td>\n",
       "      <td>6.0</td>\n",
       "      <td>Salaried</td>\n",
       "      <td>Female</td>\n",
       "      <td>3.0</td>\n",
       "      <td>Deluxe</td>\n",
       "      <td>3.0</td>\n",
       "      <td>Unmarried</td>\n",
       "      <td>1.0</td>\n",
       "      <td>1</td>\n",
       "      <td>2</td>\n",
       "      <td>1</td>\n",
       "      <td>Manager</td>\n",
       "      <td>20993.0</td>\n",
       "      <td>3.0</td>\n",
       "    </tr>\n",
       "    <tr>\n",
       "      <th>1</th>\n",
       "      <td>49.0</td>\n",
       "      <td>Company Invited</td>\n",
       "      <td>1</td>\n",
       "      <td>14.0</td>\n",
       "      <td>Salaried</td>\n",
       "      <td>Male</td>\n",
       "      <td>4.0</td>\n",
       "      <td>Deluxe</td>\n",
       "      <td>4.0</td>\n",
       "      <td>Divorced</td>\n",
       "      <td>2.0</td>\n",
       "      <td>0</td>\n",
       "      <td>3</td>\n",
       "      <td>1</td>\n",
       "      <td>Manager</td>\n",
       "      <td>20130.0</td>\n",
       "      <td>5.0</td>\n",
       "    </tr>\n",
       "    <tr>\n",
       "      <th>2</th>\n",
       "      <td>37.0</td>\n",
       "      <td>Self Enquiry</td>\n",
       "      <td>1</td>\n",
       "      <td>8.0</td>\n",
       "      <td>Free Lancer</td>\n",
       "      <td>Male</td>\n",
       "      <td>4.0</td>\n",
       "      <td>Basic</td>\n",
       "      <td>3.0</td>\n",
       "      <td>Unmarried</td>\n",
       "      <td>7.0</td>\n",
       "      <td>1</td>\n",
       "      <td>3</td>\n",
       "      <td>0</td>\n",
       "      <td>Executive</td>\n",
       "      <td>17090.0</td>\n",
       "      <td>3.0</td>\n",
       "    </tr>\n",
       "    <tr>\n",
       "      <th>3</th>\n",
       "      <td>33.0</td>\n",
       "      <td>Company Invited</td>\n",
       "      <td>1</td>\n",
       "      <td>9.0</td>\n",
       "      <td>Salaried</td>\n",
       "      <td>Female</td>\n",
       "      <td>3.0</td>\n",
       "      <td>Basic</td>\n",
       "      <td>3.0</td>\n",
       "      <td>Divorced</td>\n",
       "      <td>2.0</td>\n",
       "      <td>1</td>\n",
       "      <td>5</td>\n",
       "      <td>1</td>\n",
       "      <td>Executive</td>\n",
       "      <td>17909.0</td>\n",
       "      <td>3.0</td>\n",
       "    </tr>\n",
       "    <tr>\n",
       "      <th>4</th>\n",
       "      <td>36.0</td>\n",
       "      <td>Self Enquiry</td>\n",
       "      <td>1</td>\n",
       "      <td>8.0</td>\n",
       "      <td>Small Business</td>\n",
       "      <td>Male</td>\n",
       "      <td>3.0</td>\n",
       "      <td>Basic</td>\n",
       "      <td>4.0</td>\n",
       "      <td>Divorced</td>\n",
       "      <td>1.0</td>\n",
       "      <td>0</td>\n",
       "      <td>5</td>\n",
       "      <td>1</td>\n",
       "      <td>Executive</td>\n",
       "      <td>18468.0</td>\n",
       "      <td>2.0</td>\n",
       "    </tr>\n",
       "  </tbody>\n",
       "</table>\n",
       "</div>"
      ],
      "text/plain": [
       "    Age    TypeofContact  CityTier  DurationOfPitch      Occupation  Gender  \\\n",
       "0  41.0     Self Enquiry         3              6.0        Salaried  Female   \n",
       "1  49.0  Company Invited         1             14.0        Salaried    Male   \n",
       "2  37.0     Self Enquiry         1              8.0     Free Lancer    Male   \n",
       "3  33.0  Company Invited         1              9.0        Salaried  Female   \n",
       "4  36.0     Self Enquiry         1              8.0  Small Business    Male   \n",
       "\n",
       "   NumberOfFollowups ProductPitched  PreferredPropertyStar MaritalStatus  \\\n",
       "0                3.0         Deluxe                    3.0     Unmarried   \n",
       "1                4.0         Deluxe                    4.0      Divorced   \n",
       "2                4.0          Basic                    3.0     Unmarried   \n",
       "3                3.0          Basic                    3.0      Divorced   \n",
       "4                3.0          Basic                    4.0      Divorced   \n",
       "\n",
       "   NumberOfTrips  Passport  PitchSatisfactionScore  OwnCar Designation  \\\n",
       "0            1.0         1                       2       1     Manager   \n",
       "1            2.0         0                       3       1     Manager   \n",
       "2            7.0         1                       3       0   Executive   \n",
       "3            2.0         1                       5       1   Executive   \n",
       "4            1.0         0                       5       1   Executive   \n",
       "\n",
       "   MonthlyIncome  TotalVisiting  \n",
       "0        20993.0            3.0  \n",
       "1        20130.0            5.0  \n",
       "2        17090.0            3.0  \n",
       "3        17909.0            3.0  \n",
       "4        18468.0            2.0  "
      ]
     },
     "execution_count": 48,
     "metadata": {},
     "output_type": "execute_result"
    }
   ],
   "source": [
    "X.head()"
   ]
  },
  {
   "cell_type": "code",
   "execution_count": 49,
   "id": "d192f6fa",
   "metadata": {},
   "outputs": [
    {
     "data": {
      "text/plain": [
       "ProdTaken\n",
       "0    3968\n",
       "1     920\n",
       "Name: count, dtype: int64"
      ]
     },
     "execution_count": 49,
     "metadata": {},
     "output_type": "execute_result"
    }
   ],
   "source": [
    "y.value_counts()"
   ]
  },
  {
   "cell_type": "code",
   "execution_count": 50,
   "id": "bb9a89bf",
   "metadata": {},
   "outputs": [
    {
     "data": {
      "text/plain": [
       "((3910, 17), (978, 17), (3910,), (978,))"
      ]
     },
     "execution_count": 50,
     "metadata": {},
     "output_type": "execute_result"
    }
   ],
   "source": [
    "# Splitting the dataset into training and testing sets\n",
    "X_train, X_test, y_train, y_test = train_test_split(X, y, test_size=0.2, random_state=42, stratify=y)\n",
    "X_train.shape, X_test.shape, y_train.shape, y_test.shape"
   ]
  },
  {
   "cell_type": "code",
   "execution_count": 70,
   "id": "e2321198",
   "metadata": {},
   "outputs": [],
   "source": [
    "# create column transformers with 3 types of transformers\n",
    "from sklearn.compose import ColumnTransformer\n",
    "from sklearn.preprocessing import OneHotEncoder, StandardScaler\n",
    "# Define the column transformer\n",
    "preprocessor = ColumnTransformer(transformers=[('num', StandardScaler(), num_features),\n",
    "                                                ('cat', OneHotEncoder(handle_unknown='ignore',drop='first'), cat_features)],\n",
    "                                                remainder='passthrough')"
   ]
  },
  {
   "cell_type": "code",
   "execution_count": 71,
   "id": "46e052a8",
   "metadata": {},
   "outputs": [],
   "source": [
    "# Remove 'ProdTaken' from num_features if present\n",
    "if 'ProdTaken' in num_features:\n",
    "\tnum_features.remove('ProdTaken')\n",
    "\n",
    "# Ensure X_train and X_test are DataFrames before transforming\n",
    "X_train = X.loc[y_train.index]\n",
    "X_test = X.loc[y_test.index]\n",
    "\n",
    "X_train = preprocessor.fit_transform(X_train)\n",
    "X_test = preprocessor.transform(X_test)"
   ]
  },
  {
   "cell_type": "code",
   "execution_count": 72,
   "id": "ec49a657",
   "metadata": {},
   "outputs": [
    {
     "data": {
      "text/plain": [
       "((3910, 26), (978, 26))"
      ]
     },
     "execution_count": 72,
     "metadata": {},
     "output_type": "execute_result"
    }
   ],
   "source": [
    "X_train.shape, X_test.shape"
   ]
  },
  {
   "cell_type": "code",
   "execution_count": 75,
   "id": "bdf0fbc9",
   "metadata": {},
   "outputs": [],
   "source": [
    "# Create a Random Forest Classifier\n",
    "from sklearn.ensemble import RandomForestClassifier\n",
    "from sklearn.metrics import classification_report, confusion_matrix, accuracy_score, precision_score, recall_score, f1_score, roc_auc_score, roc_curve, ConfusionMatrixDisplay\n",
    "from sklearn.tree import DecisionTreeClassifier\n",
    "from sklearn.linear_model import LogisticRegression"
   ]
  },
  {
   "cell_type": "code",
   "execution_count": 76,
   "id": "df74aaa5",
   "metadata": {},
   "outputs": [
    {
     "name": "stdout",
     "output_type": "stream",
     "text": [
      "Model: Random Forest\n",
      "Model performance on test set:\n",
      "Test Accuracy: 0.934560327198364\n",
      "Test Precision: 0.96875\n",
      "Test Recall: 0.6739130434782609\n",
      "Test F1 Score: 0.7948717948717948\n",
      "Test ROC AUC: 1.0\n",
      "------------------------------------------------------------\n",
      "Model performance on train set:\n",
      "Train Accuracy: 1.0\n",
      "Train Precision: 1.0\n",
      "Train Recall: 1.0\n",
      "Train F1 Score: 1.0\n",
      "Train ROC AUC: 1.0\n",
      "==================================================\n",
      "\n",
      "\n",
      "Model: Decision Tree\n",
      "Model performance on test set:\n",
      "Test Accuracy: 0.9049079754601227\n",
      "Test Precision: 0.7660818713450293\n",
      "Test Recall: 0.7119565217391305\n",
      "Test F1 Score: 0.7380281690140845\n",
      "Test ROC AUC: 1.0\n",
      "------------------------------------------------------------\n",
      "Model performance on train set:\n",
      "Train Accuracy: 1.0\n",
      "Train Precision: 1.0\n",
      "Train Recall: 1.0\n",
      "Train F1 Score: 1.0\n",
      "Train ROC AUC: 1.0\n",
      "==================================================\n",
      "\n",
      "\n",
      "Model: Logistic Regression\n",
      "Model performance on test set:\n",
      "Test Accuracy: 0.8312883435582822\n",
      "Test Precision: 0.6266666666666667\n",
      "Test Recall: 0.2554347826086957\n",
      "Test F1 Score: 0.36293436293436293\n",
      "Test ROC AUC: 0.6552359010712034\n",
      "------------------------------------------------------------\n",
      "Model performance on train set:\n",
      "Train Accuracy: 0.851150895140665\n",
      "Train Precision: 0.7212643678160919\n",
      "Train Recall: 0.34103260869565216\n",
      "Train F1 Score: 0.46309963099630996\n",
      "Train ROC AUC: 0.6552359010712034\n",
      "==================================================\n",
      "\n",
      "\n"
     ]
    }
   ],
   "source": [
    "models = {\n",
    "    'Random Forest': RandomForestClassifier(n_estimators=100, random_state=42),\n",
    "    'Decision Tree': DecisionTreeClassifier(random_state=42),\n",
    "    'Logistic Regression': LogisticRegression(max_iter=1000, random_state=42)\n",
    "}\n",
    "for i in range(len(list(models))):\n",
    "    model = list(models.values())[i]\n",
    "    model.fit(X_train, y_train) # train the model\n",
    "\n",
    "    # make predictions\n",
    "    y_test_pred = model.predict(X_test) \n",
    "    y_train_pred = model.predict(X_train)\n",
    "\n",
    "    # evaluate the test model\n",
    "    model_accuracy = accuracy_score(y_test, y_test_pred)\n",
    "    model_precision = precision_score(y_test, y_test_pred)\n",
    "    model_recall = recall_score(y_test, y_test_pred)\n",
    "    model_f1 = f1_score(y_test, y_test_pred)\n",
    "    model_roc_auc = roc_auc_score(y_test, y_test_pred)\n",
    "\n",
    "    # evaluate the train model\n",
    "    train_accuracy = accuracy_score(y_train, y_train_pred)\n",
    "    train_precision = precision_score(y_train, y_train_pred)\n",
    "    train_recall = recall_score(y_train, y_train_pred)\n",
    "    train_f1 = f1_score(y_train, y_train_pred)\n",
    "    model_roc_auc = roc_auc_score(y_train, y_train_pred)\n",
    "\n",
    "    print(f\"Model: {list(models.keys())[i]}\")\n",
    "    print('Model performance on test set:')\n",
    "    print(f\"Test Accuracy: {model_accuracy}\")\n",
    "    print(f\"Test Precision: {model_precision}\")\n",
    "    print(f\"Test Recall: {model_recall}\")\n",
    "    print(f\"Test F1 Score: {model_f1}\")\n",
    "    print(f\"Test ROC AUC: {model_roc_auc}\")\n",
    "\n",
    "    print('------------------------------------------------------------')\n",
    "\n",
    "    print('Model performance on train set:')\n",
    "    print(f\"Train Accuracy: {train_accuracy}\")  \n",
    "    print(f\"Train Precision: {train_precision}\")\n",
    "    print(f\"Train Recall: {train_recall}\")  \n",
    "    print(f\"Train F1 Score: {train_f1}\")\n",
    "    print(f\"Train ROC AUC: {model_roc_auc}\")\n",
    "    \n",
    "    print('='*50)\n",
    "    print('\\n')\n"
   ]
  },
  {
   "cell_type": "code",
   "execution_count": 77,
   "id": "50c99960",
   "metadata": {},
   "outputs": [],
   "source": [
    "# hyperparameter tuning for Random Forest\n",
    "rf_params = {\n",
    "    'n_estimators': [50, 100, 200, 500, 1000],\n",
    "    'max_depth': [None, 10, 20, 30],\n",
    "    'min_samples_split': [2, 5, 10, 15, 20],\n",
    "    'max_features': ['auto', 'sqrt', 'log2', 5, 10, 15]\n",
    "}"
   ]
  },
  {
   "cell_type": "code",
   "execution_count": 78,
   "id": "de8706e0",
   "metadata": {},
   "outputs": [],
   "source": [
    "# models list for hyperparameter tuning\n",
    "models = [\n",
    "    ('RF', RandomForestClassifier(), rf_params)\n",
    "]"
   ]
  },
  {
   "cell_type": "code",
   "execution_count": 79,
   "id": "92b1dba3",
   "metadata": {},
   "outputs": [
    {
     "name": "stdout",
     "output_type": "stream",
     "text": [
      "Fitting 3 folds for each of 100 candidates, totalling 300 fits\n",
      "Best parameters for RF: {'n_estimators': 1000, 'min_samples_split': 2, 'max_features': 15, 'max_depth': 20}\n",
      "==================================================\n"
     ]
    }
   ],
   "source": [
    "from sklearn.model_selection import RandomizedSearchCV\n",
    "models_params = {}\n",
    "for name, model, params in models:\n",
    "    search = RandomizedSearchCV(model, params, n_iter=100, cv=3, scoring='accuracy', random_state=42, n_jobs=-1, verbose=2)\n",
    "    search.fit(X_train, y_train)\n",
    "    models_params[name] = search.best_params_\n",
    "\n",
    "for model_name in models_params:\n",
    "    print(f\"Best parameters for {model_name}: {models_params[model_name]}\")\n",
    "    print('='*50)"
   ]
  },
  {
   "cell_type": "code",
   "execution_count": null,
   "id": "5cb06993",
   "metadata": {},
   "outputs": [
    {
     "name": "stdout",
     "output_type": "stream",
     "text": [
      "Model: Random Forest\n",
      "Model performance on test set:\n",
      "Test Accuracy: 0.941717791411043\n",
      "Test Precision: 0.9319727891156463\n",
      "Test Recall: 0.7445652173913043\n",
      "Test F1 Score: 0.8277945619335347\n",
      "Test ROC AUC: 1.0\n",
      "------------------------------------------------------------\n",
      "Model performance on train set:\n",
      "Train Accuracy: 1.0\n",
      "Train Precision: 1.0\n",
      "Train Recall: 1.0\n",
      "Train F1 Score: 1.0\n",
      "Train ROC AUC: 1.0\n",
      "==================================================\n",
      "\n",
      "\n"
     ]
    }
   ],
   "source": [
    "# Train the Random Forest model with the best parameters\n",
    "models = {\n",
    "    'Random Forest': RandomForestClassifier(n_estimators=1000, random_state=42, min_samples_split=2,\n",
    "                                             max_depth=20, max_features=15)\n",
    "}\n",
    "for i in range(len(list(models))):\n",
    "    model = list(models.values())[i]\n",
    "    model.fit(X_train, y_train) # train the model\n",
    "\n",
    "    # make predictions\n",
    "    y_test_pred1 = model.predict(X_test) \n",
    "    y_train_pred1 = model.predict(X_train)\n",
    "\n",
    "    # evaluate the test model\n",
    "    model_accuracy = accuracy_score(y_test, y_test_pred1)\n",
    "    model_precision = precision_score(y_test, y_test_pred1)\n",
    "    model_recall = recall_score(y_test, y_test_pred1)\n",
    "    model_f1 = f1_score(y_test, y_test_pred1)\n",
    "    model_roc_auc = roc_auc_score(y_test, y_test_pred1)\n",
    "\n",
    "    # evaluate the train model\n",
    "    train_accuracy = accuracy_score(y_train, y_train_pred1)\n",
    "    train_precision = precision_score(y_train, y_train_pred1)\n",
    "    train_recall = recall_score(y_train, y_train_pred1)\n",
    "    train_f1 = f1_score(y_train, y_train_pred1)\n",
    "    model_roc_auc = roc_auc_score(y_train, y_train_pred1)\n",
    "\n",
    "    print(f\"Model: {list(models.keys())[i]}\")\n",
    "    print('Model performance on test set:')\n",
    "    print(f\"Test Accuracy: {model_accuracy}\")\n",
    "    print(f\"Test Precision: {model_precision}\")\n",
    "    print(f\"Test Recall: {model_recall}\")\n",
    "    print(f\"Test F1 Score: {model_f1}\")\n",
    "    print(f\"Test ROC AUC: {model_roc_auc}\")\n",
    "\n",
    "    print('------------------------------------------------------------')\n",
    "\n",
    "    print('Model performance on train set:')\n",
    "    print(f\"Train Accuracy: {train_accuracy}\")  \n",
    "    print(f\"Train Precision: {train_precision}\")\n",
    "    print(f\"Train Recall: {train_recall}\")  \n",
    "    print(f\"Train F1 Score: {train_f1}\")\n",
    "    print(f\"Train ROC AUC: {model_roc_auc}\")\n",
    "    \n",
    "    print('='*50)\n",
    "    print('\\n')"
   ]
  },
  {
   "cell_type": "code",
   "execution_count": 81,
   "id": "f8becccb",
   "metadata": {},
   "outputs": [
    {
     "data": {
      "image/png": "[encoded data removed]",
      "text/plain": [
       "<Figure size 1000x600 with 1 Axes>"
      ]
     },
     "metadata": {},
     "output_type": "display_data"
    }
   ],
   "source": [
    "# plot ROC AUC curve\n",
    "from sklearn.metrics import roc_curve, roc_auc_score\n",
    "plt.figure(figsize=(10, 6))\n",
    "\n",
    "# add the models to the list that you want to plot on the ROC curve\n",
    "auc_models = [\n",
    "    {\n",
    "        'label': 'Random Forest',\n",
    "        'model': RandomForestClassifier(n_estimators=1000, random_state=42, min_samples_split=2,\n",
    "                                        max_depth=20, max_features=15),\n",
    "        'auc': 1.0\n",
    "    }\n",
    "]\n",
    "\n",
    "# loop over the models\n",
    "for auc_model in auc_models:\n",
    "    model = auc_model['model'] # create a new model instance\n",
    "    model.fit(X_train, y_train) # train the model on the training data\n",
    "    y_test_proba = model.predict_proba(X_test)[:, 1]\n",
    "    \n",
    "    # calculate false positive rate, true positive rate, and thresholds\n",
    "    # and plot the ROC curve\n",
    "    fpr, tpr, threshhold = roc_curve(y_test, y_test_proba)\n",
    "    roc_auc = roc_auc_score(y_test, y_test_proba)\n",
    "    # and plot the ROC curve\n",
    "    plt.plot(fpr, tpr, label=f\"{auc_model['label']} (AUC = {roc_auc:.2f})\")\n",
    "    # custom settings for the plot\n",
    "    plt.plot([0, 1], [0, 1], 'k--')  # diagonal line\n",
    "    plt.xlim([0.0, 1.0])\n",
    "    plt.ylim([0.0, 1.05])\n",
    "    plt.xlabel('False Positive Rate')\n",
    "    plt.ylabel('True Positive Rate')\n",
    "    plt.legend(loc=\"lower right\")\n",
    "    plt.title('ROC Curve')\n",
    "    plt.show()"
   ]
  }
 ],
 "metadata": {
  "kernelspec": {
   "display_name": "venv",
   "language": "python",
   "name": "python3"
  },
  "language_info": {
   "codemirror_mode": {
    "name": "ipython",
    "version": 3
   },
   "file_extension": ".py",
   "mimetype": "text/x-python",
   "name": "python",
   "nbconvert_exporter": "python",
   "pygments_lexer": "ipython3",
   "version": "3.12.7"
  }
 },
 "nbformat": 4,
 "nbformat_minor": 5
}
